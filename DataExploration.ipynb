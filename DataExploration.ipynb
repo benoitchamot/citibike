{
 "cells": [
  {
   "cell_type": "markdown",
   "metadata": {},
   "source": [
    "# Data Exploration"
   ]
  },
  {
   "cell_type": "code",
   "execution_count": 2,
   "metadata": {},
   "outputs": [],
   "source": [
    "import pandas as pd\n",
    "from pathlib import Path"
   ]
  },
  {
   "cell_type": "code",
   "execution_count": 77,
   "metadata": {},
   "outputs": [],
   "source": [
    "def dataset_info(df):\n",
    "# Create a DataFrame to contain all the information about the dataset\n",
    "    # Get the columns from the dataset\n",
    "    columns = df.columns.to_list()\n",
    "\n",
    "    # Add the columns to a dictionary\n",
    "    info_dict = {'columns': columns}\n",
    "\n",
    "    # Transform the dictionary into a DataFrame\n",
    "    info_df = pd.DataFrame(info_dict)\n",
    "\n",
    "    # Add columns to store the info\n",
    "    info_df['dtypes'] = ''\n",
    "    info_df['elements'] = 0\n",
    "    info_df['missing'] = 0\n",
    "    info_df['unique'] = 0\n",
    "\n",
    "    # Initialise counter\n",
    "    count = 0\n",
    "\n",
    "    # Get information for all columns\n",
    "    for col in columns:\n",
    "        info_df.iloc[count,1] = str(df[col].dtypes)\n",
    "        info_df.iloc[count,2] = df[col].count()\n",
    "        info_df.iloc[count,3] = len(df) - df[col].count()\n",
    "        info_df.iloc[count,4] = df[col].nunique()\n",
    "        count += 1\n",
    "\n",
    "    return info_df"
   ]
  },
  {
   "cell_type": "markdown",
   "metadata": {},
   "source": [
    "## Explore the dataset\n",
    "- columns\n",
    "- data format\n",
    "- missing data (NaN, Null, etc.)"
   ]
  },
  {
   "cell_type": "code",
   "execution_count": 3,
   "metadata": {},
   "outputs": [],
   "source": [
    "# Read the CSV into a DataFrame\n",
    "csv = Path('Citibike_Data/JC-202307-citibike-tripdata.csv')\n",
    "trip_df = pd.read_csv(csv)"
   ]
  },
  {
   "cell_type": "code",
   "execution_count": 79,
   "metadata": {},
   "outputs": [
    {
     "name": "stdout",
     "output_type": "stream",
     "text": [
      "The dataset contains 106608 rows\n"
     ]
    },
    {
     "data": {
      "text/html": [
       "<div>\n",
       "<style scoped>\n",
       "    .dataframe tbody tr th:only-of-type {\n",
       "        vertical-align: middle;\n",
       "    }\n",
       "\n",
       "    .dataframe tbody tr th {\n",
       "        vertical-align: top;\n",
       "    }\n",
       "\n",
       "    .dataframe thead th {\n",
       "        text-align: right;\n",
       "    }\n",
       "</style>\n",
       "<table border=\"1\" class=\"dataframe\">\n",
       "  <thead>\n",
       "    <tr style=\"text-align: right;\">\n",
       "      <th></th>\n",
       "      <th>columns</th>\n",
       "      <th>dtypes</th>\n",
       "      <th>elements</th>\n",
       "      <th>missing</th>\n",
       "      <th>unique</th>\n",
       "    </tr>\n",
       "  </thead>\n",
       "  <tbody>\n",
       "    <tr>\n",
       "      <th>0</th>\n",
       "      <td>ride_id</td>\n",
       "      <td>object</td>\n",
       "      <td>106608</td>\n",
       "      <td>0</td>\n",
       "      <td>106608</td>\n",
       "    </tr>\n",
       "    <tr>\n",
       "      <th>1</th>\n",
       "      <td>rideable_type</td>\n",
       "      <td>object</td>\n",
       "      <td>106608</td>\n",
       "      <td>0</td>\n",
       "      <td>3</td>\n",
       "    </tr>\n",
       "    <tr>\n",
       "      <th>2</th>\n",
       "      <td>started_at</td>\n",
       "      <td>object</td>\n",
       "      <td>106608</td>\n",
       "      <td>0</td>\n",
       "      <td>103107</td>\n",
       "    </tr>\n",
       "    <tr>\n",
       "      <th>3</th>\n",
       "      <td>ended_at</td>\n",
       "      <td>object</td>\n",
       "      <td>106608</td>\n",
       "      <td>0</td>\n",
       "      <td>103481</td>\n",
       "    </tr>\n",
       "    <tr>\n",
       "      <th>4</th>\n",
       "      <td>start_station_name</td>\n",
       "      <td>object</td>\n",
       "      <td>106601</td>\n",
       "      <td>7</td>\n",
       "      <td>103</td>\n",
       "    </tr>\n",
       "    <tr>\n",
       "      <th>5</th>\n",
       "      <td>start_station_id</td>\n",
       "      <td>object</td>\n",
       "      <td>106601</td>\n",
       "      <td>7</td>\n",
       "      <td>103</td>\n",
       "    </tr>\n",
       "    <tr>\n",
       "      <th>6</th>\n",
       "      <td>end_station_name</td>\n",
       "      <td>object</td>\n",
       "      <td>106216</td>\n",
       "      <td>392</td>\n",
       "      <td>191</td>\n",
       "    </tr>\n",
       "    <tr>\n",
       "      <th>7</th>\n",
       "      <td>end_station_id</td>\n",
       "      <td>object</td>\n",
       "      <td>106216</td>\n",
       "      <td>392</td>\n",
       "      <td>191</td>\n",
       "    </tr>\n",
       "    <tr>\n",
       "      <th>8</th>\n",
       "      <td>start_lat</td>\n",
       "      <td>float64</td>\n",
       "      <td>106608</td>\n",
       "      <td>0</td>\n",
       "      <td>34355</td>\n",
       "    </tr>\n",
       "    <tr>\n",
       "      <th>9</th>\n",
       "      <td>start_lng</td>\n",
       "      <td>float64</td>\n",
       "      <td>106608</td>\n",
       "      <td>0</td>\n",
       "      <td>35009</td>\n",
       "    </tr>\n",
       "    <tr>\n",
       "      <th>10</th>\n",
       "      <td>end_lat</td>\n",
       "      <td>float64</td>\n",
       "      <td>106486</td>\n",
       "      <td>122</td>\n",
       "      <td>250</td>\n",
       "    </tr>\n",
       "    <tr>\n",
       "      <th>11</th>\n",
       "      <td>end_lng</td>\n",
       "      <td>float64</td>\n",
       "      <td>106486</td>\n",
       "      <td>122</td>\n",
       "      <td>249</td>\n",
       "    </tr>\n",
       "    <tr>\n",
       "      <th>12</th>\n",
       "      <td>member_casual</td>\n",
       "      <td>object</td>\n",
       "      <td>106608</td>\n",
       "      <td>0</td>\n",
       "      <td>2</td>\n",
       "    </tr>\n",
       "  </tbody>\n",
       "</table>\n",
       "</div>"
      ],
      "text/plain": [
       "               columns   dtypes  elements  missing  unique\n",
       "0              ride_id   object    106608        0  106608\n",
       "1        rideable_type   object    106608        0       3\n",
       "2           started_at   object    106608        0  103107\n",
       "3             ended_at   object    106608        0  103481\n",
       "4   start_station_name   object    106601        7     103\n",
       "5     start_station_id   object    106601        7     103\n",
       "6     end_station_name   object    106216      392     191\n",
       "7       end_station_id   object    106216      392     191\n",
       "8            start_lat  float64    106608        0   34355\n",
       "9            start_lng  float64    106608        0   35009\n",
       "10             end_lat  float64    106486      122     250\n",
       "11             end_lng  float64    106486      122     249\n",
       "12       member_casual   object    106608        0       2"
      ]
     },
     "execution_count": 79,
     "metadata": {},
     "output_type": "execute_result"
    }
   ],
   "source": [
    "# Get information about the dataset\n",
    "print(f\"The dataset contains {len(trip_df)} rows\")\n",
    "dataset_info(trip_df)"
   ]
  },
  {
   "cell_type": "markdown",
   "metadata": {},
   "source": [
    "## Early observation\n",
    "- 103 start startions but 191 end station, are some stations never used as starting points? Where are there?\n",
    "- 392 end stations are missing, where the bikes stolen? Or just returned in the wild? See that only 122 end_lat/end_lng are missing, how far from a station are these bikes?\n",
    "- More trips ended than started? Where they started the previous month?"
   ]
  },
  {
   "cell_type": "markdown",
   "metadata": {},
   "source": [
    "## Follow up questions\n",
    "- What dates are covered? Earliest/latest start and end dates?\n",
    "- What are the ride types?\n",
    "- How many members vs casual?"
   ]
  },
  {
   "cell_type": "code",
   "execution_count": 92,
   "metadata": {},
   "outputs": [
    {
     "name": "stdout",
     "output_type": "stream",
     "text": [
      "First start time: 2023-07-01 00:00:29\n",
      "Last start time: 2023-07-31 23:59:44\n",
      "First end time: 2023-07-01 00:03:56\n",
      "Last end time: 2023-08-01 23:11:42\n"
     ]
    }
   ],
   "source": [
    "print(f\"First start time: {min(trip_df['started_at'])}\")\n",
    "print(f\"Last start time: {max(trip_df['started_at'])}\")\n",
    "print(f\"First end time: {min(trip_df['ended_at'])}\")\n",
    "print(f\"Last end time: {max(trip_df['ended_at'])}\")"
   ]
  },
  {
   "cell_type": "code",
   "execution_count": 84,
   "metadata": {},
   "outputs": [
    {
     "data": {
      "text/plain": [
       "classic_bike     95055\n",
       "electric_bike    11338\n",
       "docked_bike        215\n",
       "Name: rideable_type, dtype: int64"
      ]
     },
     "execution_count": 84,
     "metadata": {},
     "output_type": "execute_result"
    }
   ],
   "source": [
    "trip_df['rideable_type'].value_counts()"
   ]
  },
  {
   "cell_type": "code",
   "execution_count": 85,
   "metadata": {},
   "outputs": [
    {
     "data": {
      "text/plain": [
       "member    73344\n",
       "casual    33264\n",
       "Name: member_casual, dtype: int64"
      ]
     },
     "execution_count": 85,
     "metadata": {},
     "output_type": "execute_result"
    }
   ],
   "source": [
    "trip_df['member_casual'].value_counts()"
   ]
  },
  {
   "cell_type": "markdown",
   "metadata": {},
   "source": [
    "## Ride duration"
   ]
  },
  {
   "cell_type": "code",
   "execution_count": 105,
   "metadata": {},
   "outputs": [],
   "source": []
  },
  {
   "cell_type": "code",
   "execution_count": 110,
   "metadata": {},
   "outputs": [
    {
     "data": {
      "text/plain": [
       "23.0"
      ]
     },
     "execution_count": 110,
     "metadata": {},
     "output_type": "execute_result"
    }
   ],
   "source": []
  }
 ],
 "metadata": {
  "kernelspec": {
   "display_name": "dev",
   "language": "python",
   "name": "python3"
  },
  "language_info": {
   "codemirror_mode": {
    "name": "ipython",
    "version": 3
   },
   "file_extension": ".py",
   "mimetype": "text/x-python",
   "name": "python",
   "nbconvert_exporter": "python",
   "pygments_lexer": "ipython3",
   "version": "3.10.11"
  },
  "orig_nbformat": 4
 },
 "nbformat": 4,
 "nbformat_minor": 2
}
